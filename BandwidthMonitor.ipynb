{
  "nbformat": 4,
  "nbformat_minor": 0,
  "metadata": {
    "colab": {
      "provenance": [],
      "toc_visible": true
    },
    "kernelspec": {
      "name": "python3",
      "display_name": "Python 3"
    },
    "language_info": {
      "name": "python"
    }
  },
  "cells": [
    {
      "cell_type": "code",
      "source": [
        "import time\n",
        "import psutil\n",
        "\n",
        "last_received = psutil.net_io_counters().bytes_recv\n",
        "last_sent = psutil.net_io_counters().bytes_sent\n",
        "last_total = last_received + last_sent\n",
        "\n",
        "while True:\n",
        "  bytes_received = psutil.net_io_counters().bytes_recv\n",
        "  bytes_sent = psutil.net_io_counters().bytes_sent\n",
        "  bytes_total = bytes_received + bytes_sent\n",
        "\n",
        "  new_received = bytes_received - last_received\n",
        "  new_sent = bytes_sent - last_sent\n",
        "  new_total = bytes_total - last_total\n",
        "\n",
        "  mb_new_received = new_received / 1024 / 1024\n",
        "  mb_new_sent = new_sent / 1024 / 1024\n",
        "  mb_new_total = new_total / 1024 / 1024\n",
        "\n",
        "  print(f\"{mb_new_received:.2f} MB received, {mb_new_sent:.2f} MB sent, {mb_new_total:.2f} MB total\")\n",
        "\n",
        "  last_received = bytes_received\n",
        "  last_sent = bytes_sent\n",
        "  last_total = bytes_total\n",
        "\n",
        "  time.sleep(1)\n"
      ],
      "metadata": {
        "colab": {
          "base_uri": "https://localhost:8080/"
        },
        "id": "NrPKfF_LNuA9",
        "outputId": "1cb54af7-3d16-44fb-a5cf-d45a6a56e11c"
      },
      "execution_count": null,
      "outputs": [
        {
          "output_type": "stream",
          "name": "stdout",
          "text": [
            "0.00 MB received, 0.00 MB sent, 0.00 MB total\n",
            "0.01 MB received, 0.01 MB sent, 0.02 MB total\n",
            "0.02 MB received, 0.02 MB sent, 0.03 MB total\n",
            "0.01 MB received, 0.00 MB sent, 0.01 MB total\n",
            "0.01 MB received, 0.01 MB sent, 0.01 MB total\n",
            "0.03 MB received, 0.03 MB sent, 0.06 MB total\n",
            "0.02 MB received, 0.02 MB sent, 0.04 MB total\n",
            "0.00 MB received, 0.00 MB sent, 0.01 MB total\n",
            "0.03 MB received, 0.03 MB sent, 0.05 MB total\n",
            "0.01 MB received, 0.02 MB sent, 0.03 MB total\n",
            "0.00 MB received, 0.00 MB sent, 0.01 MB total\n",
            "0.03 MB received, 0.03 MB sent, 0.05 MB total\n",
            "0.01 MB received, 0.02 MB sent, 0.03 MB total\n",
            "0.00 MB received, 0.00 MB sent, 0.01 MB total\n",
            "0.03 MB received, 0.03 MB sent, 0.05 MB total\n",
            "0.01 MB received, 0.02 MB sent, 0.03 MB total\n"
          ]
        }
      ]
    }
  ]
}