{
  "nbformat": 4,
  "nbformat_minor": 0,
  "metadata": {
    "colab": {
      "provenance": [],
      "toc_visible": true
    },
    "kernelspec": {
      "name": "python3",
      "display_name": "Python 3"
    },
    "language_info": {
      "name": "python"
    }
  },
  "cells": [
    {
      "cell_type": "code",
      "source": [
        "import socket\n",
        "\n",
        "client = socket.socket(socket.AF_INET, socket.SOCK_STREAM)\n",
        "\n",
        "client.connect((\"localhost\", 9999))\n",
        "\n",
        "done = False\n",
        "\n",
        "while not done:\n",
        "     client.send(input(\"Message: \").encode('utf-8'))\n",
        "     msg = client.recv(1024).decode('utf-8')\n",
        "     if msg == 'quit':\n",
        "         done = True\n",
        "     else:\n",
        "         print(msg)"
      ],
      "metadata": {
        "id": "UlnabwAdKaNl"
      },
      "execution_count": null,
      "outputs": []
    }
  ]
}