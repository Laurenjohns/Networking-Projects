{
  "nbformat": 4,
  "nbformat_minor": 0,
  "metadata": {
    "colab": {
      "provenance": [],
      "toc_visible": true
    },
    "kernelspec": {
      "name": "python3",
      "display_name": "Python 3"
    },
    "language_info": {
      "name": "python"
    }
  },
  "cells": [
    {
      "cell_type": "code",
      "source": [
        "import socket\n",
        "\n",
        "server = socket.socket(socket.AF_INET, socket.SOCK_STREAM)\n",
        "server.bind((\"localhost\", 9999))\n",
        "\n",
        "server.listen()\n",
        "\n",
        "client, addr = server.accept()\n",
        "\n",
        "done = False\n",
        "\n",
        "while not done:\n",
        "    msg = client.recv(1024).decode('utf-8')\n",
        "    if msg == 'quit':\n",
        "        done == True\n",
        "    else:\n",
        "        print(msg)\n",
        "    client.send(input(\"Message: \").encode('utf-8'))"
      ],
      "metadata": {
        "id": "AwwaCi-BKLmO"
      },
      "execution_count": null,
      "outputs": []
    }
  ]
}